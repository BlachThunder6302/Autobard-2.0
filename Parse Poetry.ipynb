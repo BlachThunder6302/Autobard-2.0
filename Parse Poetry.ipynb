{
 "cells": [
  {
   "cell_type": "markdown",
   "metadata": {},
   "source": [
    "This parses poetry from www.poetryfoundation.org into files that have a title on the first line, author on the second, and the rest is the poem."
   ]
  },
  {
   "cell_type": "code",
   "execution_count": 2,
   "metadata": {},
   "outputs": [
    {
     "ename": "ModuleNotFoundError",
     "evalue": "No module named 'beautifulsoup4'",
     "output_type": "error",
     "traceback": [
      "\u001b[1;31m---------------------------------------------------------------------------\u001b[0m",
      "\u001b[1;31mModuleNotFoundError\u001b[0m                       Traceback (most recent call last)",
      "Cell \u001b[1;32mIn[2], line 1\u001b[0m\n\u001b[1;32m----> 1\u001b[0m \u001b[38;5;28;01mfrom\u001b[39;00m \u001b[38;5;21;01mbeautifulsoup4\u001b[39;00m \u001b[38;5;28;01mimport\u001b[39;00m BeautifulSoup \u001b[38;5;28;01mas\u001b[39;00m bs\n\u001b[0;32m      2\u001b[0m \u001b[38;5;28;01mfrom\u001b[39;00m \u001b[38;5;21;01mutils\u001b[39;00m\u001b[38;5;21;01m.\u001b[39;00m\u001b[38;5;21;01mlist_all_files\u001b[39;00m \u001b[38;5;28;01mimport\u001b[39;00m \u001b[38;5;241m*\u001b[39m\n\u001b[0;32m      3\u001b[0m \u001b[38;5;28;01mimport\u001b[39;00m \u001b[38;5;21;01mhashlib\u001b[39;00m\n",
      "\u001b[1;31mModuleNotFoundError\u001b[0m: No module named 'beautifulsoup4'"
     ]
    }
   ],
   "source": [
    "from beautifulsoup4 import BeautifulSoup as bs\n",
    "from utils.list_all_files import *\n",
    "import hashlib"
   ]
  },
  {
   "cell_type": "code",
   "execution_count": 3,
   "metadata": {},
   "outputs": [],
   "source": [
    "!mkdir -p output"
   ]
  },
  {
   "cell_type": "code",
   "execution_count": 23,
   "metadata": {
    "scrolled": false
   },
   "outputs": [
    {
     "name": "stdout",
     "output_type": "stream",
     "text": [
      "Parsing error: www.poetryfoundation.org/poems/52338/a-friendly-address\n",
      "Parsing error: www.poetryfoundation.org/poems/52827/the-botanic-garden-the-economy-of-vegetation-canto-i\n"
     ]
    }
   ],
   "source": [
    "def get_hash(text):\n",
    "    return hashlib.md5(text.encode('utf8')).hexdigest()\n",
    "\n",
    "conditions = ['.o-article .c-feature-hd', '.c-txt_attribution a', '.o-poem'] \n",
    "for fn in list_all_files('www.poetryfoundation.org/'):\n",
    "    with open(fn) as f:\n",
    "        html = f.read()\n",
    "        soup = bs(html, 'html.parser')\n",
    "        results = [soup.select(e) for e in conditions]\n",
    "        if all(results):\n",
    "            title = results[0][0].text.strip().split('\\n')[0]\n",
    "            author = results[1][0].text.strip().split('\\n')[0]\n",
    "            poem = results[2][0].get_text('\\n').strip().split('\\n')\n",
    "            poem = [e.strip() for e in poem if len(e.strip())]\n",
    "            poem = '\\n'.join(poem)\n",
    "            output_fn = 'output/' + get_hash(title + author) + '.txt'\n",
    "            \n",
    "            if len(poem) < 100:\n",
    "                print(f'Parsing error: {fn}')\n",
    "                continue\n",
    "                \n",
    "            with open(output_fn, 'w') as ff:\n",
    "                ff.write('\\n'.join([fn, title, author, poem]))"
   ]
  },
  {
   "cell_type": "code",
   "execution_count": null,
   "metadata": {},
   "outputs": [],
   "source": []
  }
 ],
 "metadata": {
  "kernelspec": {
   "display_name": "Python 3",
   "language": "python",
   "name": "python3"
  },
  "language_info": {
   "codemirror_mode": {
    "name": "ipython",
    "version": 3
   },
   "file_extension": ".py",
   "mimetype": "text/x-python",
   "name": "python",
   "nbconvert_exporter": "python",
   "pygments_lexer": "ipython3",
   "version": "3.12.0"
  }
 },
 "nbformat": 4,
 "nbformat_minor": 2
}
